{
 "cells": [
  {
   "cell_type": "code",
   "execution_count": 102,
   "metadata": {},
   "outputs": [],
   "source": [
    "# load custom packages from src dir\n",
    "import sys\n",
    "sys.path.insert(0, '..')\n",
    "\n",
    "# python packages\n",
    "import logging\n",
    "import os\n",
    "import matplotlib.pyplot as plt\n",
    "import numpy as np\n",
    "import torch\n",
    "import torch.nn as nn\n",
    "import torchvision.transforms as transforms\n",
    "import torchmetrics\n",
    "from tqdm import tqdm\n",
    "import einops\n",
    "\n",
    "\n",
    "# vit package - https://github.com/lucidrains/vit-pytorch\n",
    "import vit_pytorch as vit\n",
    "\n",
    "# custom packages\n",
    "import src.commons.dataset as ds\n",
    "import src.commons.internal_metrics as imetrics\n",
    "import src.commons.external_metrics as emetrics\n",
    "import src.commons.constants as cons\n",
    "from src.commons.modded_recorder import Recorder\n",
    "\n",
    "# Define the logging level\n",
    "logging.getLogger().setLevel(logging.INFO)\n",
    "\n",
    "# send notification when training is completed\n",
    "from plyer import notification"
   ]
  },
  {
   "attachments": {},
   "cell_type": "markdown",
   "metadata": {},
   "source": [
    "# <span style=\"color:green\">Goal</span>\n",
    "\n",
    "There are two available pre-trained VIT models. The goal is to write an automatized script for training both on plausible categories, and save the finetuned models + results."
   ]
  },
  {
   "attachments": {},
   "cell_type": "markdown",
   "metadata": {},
   "source": [
    "## Routine 1: \n",
    "### Load datasets, split & create dataloaders, compute imbalance ratio"
   ]
  },
  {
   "cell_type": "code",
   "execution_count": 2,
   "metadata": {},
   "outputs": [],
   "source": [
    "def prepare_data(category, image_size, batch_size):\n",
    "    logging.info(f\"Loading data from category: {category}\")\n",
    "\n",
    "    # Define transformations to be applied on each image\n",
    "    transf = transforms.Compose([\n",
    "        transforms.Resize((image_size, image_size)), # Resize to match TinyImagenet resolution\n",
    "        transforms.Lambda(lambda T: T.long()/255) # Convert image from 0-255 uint to 0-1 long\n",
    "    ])\n",
    "\n",
    "    # Load dataset\n",
    "    data = ds.MVTECViTDataset(os.path.join(ds.current_dir(),'../', cons.DATA_PATH), category, transforms=transf)\n",
    "\n",
    "    # Split data into train/test/val\n",
    "    train_data, test_data, val_data = torch.utils.data.random_split(data, [0.7, 0.1, 0.2])\n",
    "\n",
    "    # Define DataLoaders for batching input\n",
    "    BATCH_SIZE = 32\n",
    "\n",
    "    train_dataloader = torch.utils.data.DataLoader(train_data, batch_size=BATCH_SIZE, shuffle=True)\n",
    "    test_dataloader = torch.utils.data.DataLoader(test_data, batch_size=BATCH_SIZE, shuffle=True)\n",
    "    val_dataloader = torch.utils.data.DataLoader(val_data, batch_size=BATCH_SIZE, shuffle=True)\n",
    "\n",
    "    # Compute positive/negative class ratio in training data\n",
    "    total_positives = 0\n",
    "    total_negatives = 0\n",
    "    for batch in train_dataloader:\n",
    "        labels = batch[\"labels\"]\n",
    "        positive_instances = labels.sum().item()\n",
    "        negative_instances = (len(labels) - positive_instances)\n",
    "        total_positives += positive_instances\n",
    "        total_negatives += negative_instances\n",
    "\n",
    "    for batch in val_dataloader:\n",
    "        labels = batch[\"labels\"]\n",
    "        positive_instances = labels.sum().item()\n",
    "        negative_instances = (len(labels) - positive_instances)\n",
    "        total_positives += positive_instances\n",
    "        total_negatives += negative_instances\n",
    "\n",
    "    class_ratio = total_negatives/total_positives\n",
    "    logging.info(f\"Negative/positive class ratio: {class_ratio:.2f}\")\n",
    "\n",
    "    return {\n",
    "        \"train_dataloader\": train_dataloader,\n",
    "        \"test_dataloader\": test_dataloader,\n",
    "        \"val_dataloader\": val_dataloader,\n",
    "        \"class_ratio\": class_ratio,\n",
    "        \"category\": category,\n",
    "    }"
   ]
  },
  {
   "attachments": {},
   "cell_type": "markdown",
   "metadata": {},
   "source": [
    "## Routine 2:\n",
    "### Instantiate model, load weights, freeze parameters, add MLP head"
   ]
  },
  {
   "cell_type": "code",
   "execution_count": 3,
   "metadata": {},
   "outputs": [],
   "source": [
    "def fetch_model_hyperparams(model_name):\n",
    "\n",
    "    if model_name == \"simple_vit_pretrained_0.pt\":\n",
    "        hyperparams = {\n",
    "        \"image_size\": 64,\n",
    "        \"patch_size\": 4,\n",
    "        \"dim\": 256,\n",
    "        \"mlp_dim\": 512,\n",
    "        \"depth\": 2,\n",
    "        \"heads\": 8\n",
    "        }\n",
    "        \n",
    "    elif model_name == \"simple_vit_pretrained_1.pt\":\n",
    "        hyperparams = {\n",
    "        \"image_size\": 100,\n",
    "        \"patch_size\": 5,\n",
    "        \"dim\": 64,\n",
    "        \"mlp_dim\": 64,\n",
    "        \"depth\": 2,\n",
    "        \"heads\": 8\n",
    "        }\n",
    "\n",
    "    else:\n",
    "        raise ValueError(\"Invalid model\")\n",
    "\n",
    "    return hyperparams\n",
    "\n",
    "def initialize_model(model_name):\n",
    "\n",
    "    # Pretrained model hyper-parameters\n",
    "    pretrained_path = \"..\" + cons.DIR_SEP + os.path.join(\"results\", \"vit_finetuning\")\n",
    "\n",
    "    model_hyperparams = fetch_model_hyperparams(model_name)\n",
    "   \n",
    "    # Load pretrained model\n",
    "    model = vit.SimpleViT(\n",
    "        num_classes = 200,\n",
    "        **model_hyperparams\n",
    "    ).to(\"cpu\")\n",
    "\n",
    "    loaded = torch.load(os.path.join(pretrained_path, model_name))\n",
    "    logging.info(f\"Loaded model, epoch:{loaded['epoch']}, loss:{loaded['loss']}\")\n",
    "    model.load_state_dict(loaded[\"model_state_dict\"])\n",
    "\n",
    "    # Freeze pretrained parameters\n",
    "    for p in model.parameters():\n",
    "        p.requires_grad = False\n",
    "\n",
    "    # Discard fully-connected head, and substitute for a trainable fresh one\n",
    "    model.linear_head[-1] = nn.Sequential(\n",
    "        nn.Linear(model_hyperparams[\"dim\"], model_hyperparams[\"mlp_dim\"]),\n",
    "        nn.ReLU(),\n",
    "        nn.Linear(model_hyperparams[\"mlp_dim\"], 1)\n",
    "    )\n",
    "\n",
    "    def count_trainable_parameters(model):\n",
    "        return sum(p.numel() for p in model.parameters() if p.requires_grad)\n",
    "\n",
    "    def count_frozen_parameters(model):\n",
    "        return sum(p.numel() for p in model.parameters() if not p.requires_grad)\n",
    "\n",
    "    logging.info(f\"Trainable params: {count_trainable_parameters(model)}\")\n",
    "    logging.info(f\"Frozen params: {count_frozen_parameters(model)}\")\n",
    "\n",
    "    return {\n",
    "        \"model\": model,\n",
    "        \"pretrained_path\": pretrained_path,\n",
    "        \"model_hyperparams\": model_hyperparams\n",
    "    }"
   ]
  },
  {
   "attachments": {},
   "cell_type": "markdown",
   "metadata": {},
   "source": [
    "## Routine 3\n",
    "### Training (optinal unfreeze, checkpoints)"
   ]
  },
  {
   "cell_type": "code",
   "execution_count": 4,
   "metadata": {},
   "outputs": [],
   "source": [
    "def evaluate(model, data_loader, **kwargs):\n",
    "    loss_fn = kwargs.get(\"loss_fn\", nn.BCEWithLogitsLoss())\n",
    "    device = kwargs.get(\"device\", torch.device(\"cpu\"))\n",
    "    \n",
    "    f1 = torchmetrics.F1Score(task=\"binary\").to(device)\n",
    "\n",
    "    model.eval() # set model to evaluation mode\n",
    "    pbar = tqdm(enumerate(data_loader), total=len(data_loader))\n",
    "    avg_loss, avg_acc = 0., 0.\n",
    "    for i, batch in pbar:\n",
    "\n",
    "        inputs, targets = batch[\"inputs\"], batch[\"labels\"]\n",
    "        inputs, targets = inputs.to(device), targets.to(device)\n",
    "        \n",
    "        model.zero_grad() # initialize gradients to zero\n",
    "        with torch.no_grad(): # no need to compute gradients\n",
    "            logits = model(inputs)\n",
    "            preds = torch.sigmoid(logits)\n",
    "            pred_cats = (preds > 0.5).int()\n",
    "            # acc = (pred_cats == targets).float().mean()\n",
    "            acc = f1(pred_cats, targets)\n",
    "\n",
    "        loss = loss_fn(logits, targets.float())\n",
    "        avg_loss += loss.item()\n",
    "        avg_acc += acc.item()\n",
    "        pbar.set_description(f\"loss = {loss:.3f} | acc = {acc:.3f}\")\n",
    "    avg_loss /= len(data_loader)\n",
    "    avg_acc /= len(data_loader)\n",
    "    return avg_loss, avg_acc\n",
    "\n",
    "def fit(model, train_loader, val_loader, optimizer, **kwargs):\n",
    "    loss_fn = kwargs.get(\"loss_fn\", nn.BCEWithLogitsLoss())\n",
    "    device = kwargs.get(\"device\", torch.device(\"cpu\"))\n",
    "    num_epochs = kwargs.get(\"num_epochs\", 100)\n",
    "    checkpoint_name = kwargs.get(\"checkpoint_name\", \"no_id\")\n",
    "    checkpoint_path = kwargs.get(\"checkpoint_path\", (\"..\" + cons.DIR_SEP + os.path.join(\"results\", \"vit_finetuning\")))\n",
    "\n",
    "    f1 = torchmetrics.F1Score(task=\"binary\").to(device)\n",
    "\n",
    "    train_loss_hist, val_loss_hist = [], []\n",
    "    train_acc_hist, val_acc_hist = [], []\n",
    "\n",
    "    for epoch in range(num_epochs):\n",
    "        # Checkpoint best performing model in validation  \n",
    "        if epoch > 2 and val_loss_hist[-2] > val_loss_hist[-1]:\n",
    "            torch.save({\n",
    "                    'epoch': epoch,\n",
    "                    'model_state_dict': model.state_dict(),\n",
    "                    'optimizer_state_dict': optimizer.state_dict(),\n",
    "                    'loss': val_loss_hist[-1],\n",
    "                    }, os.path.join(checkpoint_path, f\"simple_vit_ft_{checkpoint_name}_best.pt\")) \n",
    "        # Checkpoint current model\n",
    "        elif epoch > 0:\n",
    "            torch.save({\n",
    "                    'epoch': epoch,\n",
    "                    'model_state_dict': model.state_dict(),\n",
    "                    'optimizer_state_dict': optimizer.state_dict(),\n",
    "                    'loss': val_loss_hist[-1],\n",
    "                    }, os.path.join(checkpoint_path, f\"simple_vit_ft_{checkpoint_name}.pt\")) \n",
    "\n",
    "        print(f\"\\nEpoch {epoch + 1}/{num_epochs}\")\n",
    "        model.train() # set model to training mode\n",
    "        train_loss, train_acc = 0., 0.\n",
    "        pbar = tqdm(enumerate(train_loader), total=len(train_loader))\n",
    "        for i, batch in pbar:\n",
    "            \n",
    "            inputs, targets = batch[\"inputs\"], batch[\"labels\"]\n",
    "            inputs, targets = inputs.to(device), targets.to(device)\n",
    "    \n",
    "            model.zero_grad() # initialize gradients to zero\n",
    "            logits = model(inputs) # forward pass\n",
    "\n",
    "            loss = loss_fn(logits, targets.float()) # loss computation\n",
    "            loss.backward() # computing gradients (backward pass)\n",
    "            \n",
    "            optimizer.step() # updating the parameters of the model\n",
    "            # metric computation\n",
    "            with torch.no_grad():\n",
    "                preds = torch.sigmoid(logits)\n",
    "                pred_cats = (preds > 0.5).int()\n",
    "                # acc = (pred_cats == targets).float().mean()\n",
    "                acc = f1(pred_cats, targets)\n",
    "                \n",
    "            # pop computational graph\n",
    "            train_loss += loss.item()\n",
    "            train_acc += acc.item() \n",
    "            pbar.set_description(f\"loss = {loss:.3f} | acc = {acc:.3f}\")\n",
    "        \n",
    "\n",
    "        train_loss /= len(train_loader)\n",
    "        train_acc /= len(train_loader)\n",
    "        print(f\"Train loss: {train_loss:.3f} | train acc = {train_acc:.3f}\")\n",
    "        train_loss_hist.append(train_loss)\n",
    "        train_acc_hist.append(train_acc) \n",
    "        \n",
    "        val_loss, val_acc = evaluate(model, val_loader, loss_fn=loss_fn, device=device)\n",
    "        print(f\"Validation loss: {val_loss:.3f} | val acc = {val_acc:.3f}\")\n",
    "        val_loss_hist.append(val_loss)\n",
    "        val_acc_hist.append(val_acc)\n",
    "        \n",
    "    return train_loss_hist, val_loss_hist, train_acc_hist, val_acc_hist"
   ]
  },
  {
   "attachments": {},
   "cell_type": "markdown",
   "metadata": {},
   "source": [
    "## Routine 4\n",
    "### Define training parameters, call R3"
   ]
  },
  {
   "cell_type": "code",
   "execution_count": 183,
   "metadata": {},
   "outputs": [],
   "source": [
    "def execute_training(model, train_dataloader, val_dataloader, **kwargs):\n",
    "    # Define training parameters\n",
    "    learning_rate = kwargs.get(\"learning_rate\", 1e-4)\n",
    "    learning_rate_unfreeze = kwargs.get(\"learning_rate_unfreeze\", 1e-6)\n",
    "    num_epochs = kwargs.get(\"num_epochs\", 20)\n",
    "    num_epochs_unfreeze = kwargs.get(\"num_epochs_unfreeze\", 0)\n",
    "    class_ratio = kwargs.get(\"class_ratio\", 1.0)\n",
    "    checkpoint_name = kwargs.get(\"checkpoint_name\", \"no_id\")\n",
    "    checkpoint_path = kwargs.get(\"checkpoint_path\", (\"..\" + cons.DIR_SEP + os.path.join(\"results\", \"vit_finetuning\")))\n",
    "    \n",
    "    # Define loss and optimizer\n",
    "    optimizer = torch.optim.Adam(model.parameters(), lr=learning_rate)\n",
    "\n",
    "    # criterion = torch.nn.BCEWithLogitsLoss()\n",
    "    criterion = torch.nn.BCEWithLogitsLoss(pos_weight=torch.tensor(class_ratio)) # Account for class imbalance\n",
    "\n",
    "    # Attempt training on GPU\n",
    "    if torch.cuda.is_available():\n",
    "        logging.info('Selected device: cuda')\n",
    "        device = torch.device('cuda')\n",
    "    else:\n",
    "        logging.info('Selected device: cpu')\n",
    "        device = torch.device('cpu')\n",
    "\n",
    "    # Send to device\n",
    "    model = model.to(device)\n",
    "    \n",
    "    # Training\n",
    "    train_loss, val_loss, train_acc, val_acc = fit(model, train_dataloader, val_dataloader, optimizer,\n",
    "                                                   loss_fn=criterion, num_epochs=num_epochs, device=device,\n",
    "                                                   checkpoint_name=checkpoint_name, checkpoint_path=checkpoint_path)\n",
    "\n",
    "    notification.notify(\n",
    "    title=f\"Finished training: {checkpoint_name}, epochs: {num_epochs}\",\n",
    "    message=f\"Val acc: {val_acc[-1]:.2f}\",\n",
    "    timeout=60\n",
    "    )\n",
    "\n",
    "    if num_epochs_unfreeze > 0:\n",
    "        logging.info(f\"Unfreezing parameters...\")\n",
    "        \n",
    "        for p in model.parameters():\n",
    "            p.requires_grad = True\n",
    "\n",
    "        optimizer_unfreeze = torch.optim.Adam(model.parameters(), lr=learning_rate_unfreeze)\n",
    "        \n",
    "        # Training the complete model\n",
    "        temp1, temp2, temp3, temp4 = fit(model, train_dataloader, val_dataloader, optimizer_unfreeze,\n",
    "                                         loss_fn=criterion, num_epochs=num_epochs_unfreeze, device=device,\n",
    "                                         checkpoint_name=checkpoint_name, checkpoint_path=checkpoint_path)\n",
    "        train_loss += temp1\n",
    "        val_loss += temp2\n",
    "        train_acc += temp3\n",
    "        val_acc += temp4\n",
    "\n",
    "        notification.notify(\n",
    "        title=f\"Finished training: {checkpoint_name}, epochs: {num_epochs_unfreeze}\",\n",
    "        message=f\"Val acc: {val_acc[-1]:.2f}\",\n",
    "        timeout=300\n",
    "        )\n",
    "\n",
    "    return {\n",
    "        \"trained_model\": model,\n",
    "        \"train_loss\": train_loss,\n",
    "        \"train_score\": train_acc,\n",
    "        \"val_loss\": val_loss,\n",
    "        \"val_score\": val_acc\n",
    "    }"
   ]
  },
  {
   "attachments": {},
   "cell_type": "markdown",
   "metadata": {},
   "source": [
    "## Routine 5\n",
    "### Encapsulate all previous routines, and include plotting routine for training history"
   ]
  },
  {
   "cell_type": "code",
   "execution_count": 184,
   "metadata": {},
   "outputs": [],
   "source": [
    "def plot_history(train_loss, val_loss, train_acc, val_acc, unfreeze=0):\n",
    "    with plt.rc_context(rc={'font.size': 15, 'font.weight': 'bold'}):\n",
    "        plt.figure()\n",
    "        plt.title(\"Loss\")\n",
    "        plt.plot(train_loss, ls=\"--\", marker=\"o\", lw=2.0, c=\"b\", label=\"Train\")\n",
    "        plt.plot(val_loss, ls=\"--\", marker=\"o\", lw=2.0, c=\"r\", label=\"Val\")\n",
    "        if unfreeze > 0:\n",
    "            plt.axvline(unfreeze, ls=\"--\", color=\"k\", alpha=0.7, lw=1.5, zorder=-1)\n",
    "        plt.xlabel(\"Epoch\")\n",
    "        plt.ylabel(\"Binary Cross-Entropy\")\n",
    "        plt.legend()\n",
    "        plt.grid()\n",
    "        plt.tight_layout()\n",
    "        plt.show()\n",
    "        ####\n",
    "        plt.figure()\n",
    "        plt.title(\"Score\")\n",
    "        plt.plot(train_acc, ls=\"--\", marker=\"o\", lw=2.0, c=\"b\", label=\"Train\")\n",
    "        plt.plot(val_acc, ls=\"--\", marker=\"o\", lw=2.0, c=\"r\", label=\"Val\")\n",
    "        if unfreeze > 0:\n",
    "            plt.axvline(unfreeze, ls=\"--\", color=\"k\", alpha=0.7, lw=1.5, zorder=-1)\n",
    "        plt.xlabel(\"Epoch\")\n",
    "        plt.ylabel(\"F1 Score\")\n",
    "        plt.legend()\n",
    "        plt.grid()\n",
    "        plt.tight_layout()\n",
    "        plt.show()"
   ]
  },
  {
   "cell_type": "code",
   "execution_count": 185,
   "metadata": {},
   "outputs": [],
   "source": [
    "def finetune(model_name, category, train_params):\n",
    "\n",
    "    model_loaded = initialize_model(model_name)\n",
    "\n",
    "    data_loaded = prepare_data(category=category, image_size=model_loaded[\"model_hyperparams\"][\"image_size\"],\n",
    "                               batch_size=train_params[\"batch_size\"])\n",
    "    \n",
    "    train_params[\"class_ratio\"] = data_loaded[\"class_ratio\"]\n",
    "\n",
    "    output = execute_training(model_loaded[\"model\"], data_loaded[\"train_dataloader\"], data_loaded[\"val_dataloader\"],\n",
    "                              **train_params)\n",
    "\n",
    "    plot_history(output[\"train_loss\"], output[\"val_loss\"],\n",
    "                 output[\"train_score\"], output[\"val_score\"],\n",
    "                 unfreeze=train_params[\"num_epochs_unfreeze\"])\n",
    "\n",
    "    return output[\"trained_model\"]\n"
   ]
  },
  {
   "attachments": {},
   "cell_type": "markdown",
   "metadata": {},
   "source": [
    "# Test routines implemented so far\n",
    "\n",
    "```python\n",
    "categories = [\"bottle\", \"cable\", \"hazelnut\",\n",
    "              \"leather\", \"screw\", \"transistor\"]\n",
    "```"
   ]
  },
  {
   "cell_type": "code",
   "execution_count": 77,
   "metadata": {},
   "outputs": [
    {
     "name": "stdout",
     "output_type": "stream",
     "text": [
      "Preparing to finetune simple_vit_pretrained_0.pt on hazelnut data\n"
     ]
    }
   ],
   "source": [
    "model_version = 0\n",
    "model_name = f\"simple_vit_pretrained_{model_version}.pt\"\n",
    "\n",
    "category = \"hazelnut\"\n",
    "\n",
    "train_params = {\n",
    "    \"batch_size\": 32,\n",
    "    \"checkpoint_name\": f\"{category}_{model_version}\",\n",
    "    \"checkpoint_path\": (\"..\" + cons.DIR_SEP + os.path.join(\"results\", \"vit_finetuning\")),\n",
    "    \"learning_rate\": 1e-4,\n",
    "    \"learning_rate_unfreeze\": 1e-6,\n",
    "    \"num_epochs\": 20,\n",
    "    \"num_epochs_unfreeze\": 0,\n",
    "}\n",
    "\n",
    "print(f\"Preparing to finetune {model_name} on {category} data\")"
   ]
  },
  {
   "cell_type": "code",
   "execution_count": 78,
   "metadata": {},
   "outputs": [
    {
     "name": "stderr",
     "output_type": "stream",
     "text": [
      "INFO:root:Loaded model, epoch:16, loss:3.3293343412990386\n",
      "INFO:root:Trainable params: 132097\n",
      "INFO:root:Frozen params: 1589504\n",
      "INFO:root:Loading data from category: hazelnut\n",
      "INFO:root:Negative/positive class ratio: 6.05\n",
      "INFO:root:Selected device: cuda\n"
     ]
    },
    {
     "name": "stdout",
     "output_type": "stream",
     "text": [
      "\n",
      "Epoch 1/20\n"
     ]
    },
    {
     "name": "stderr",
     "output_type": "stream",
     "text": [
      "loss = 0.737 | acc = 0.000: 100%|██████████| 11/11 [00:19<00:00,  1.75s/it]\n"
     ]
    },
    {
     "name": "stdout",
     "output_type": "stream",
     "text": [
      "Train loss: 1.126 | train acc = 0.194\n"
     ]
    },
    {
     "name": "stderr",
     "output_type": "stream",
     "text": [
      "loss = 1.602 | acc = 0.000: 100%|██████████| 4/4 [00:03<00:00,  1.10it/s]\n"
     ]
    },
    {
     "name": "stdout",
     "output_type": "stream",
     "text": [
      "Validation loss: 1.357 | val acc = 0.146\n",
      "\n",
      "Epoch 2/20\n"
     ]
    },
    {
     "name": "stderr",
     "output_type": "stream",
     "text": [
      "loss = 1.035 | acc = 0.750: 100%|██████████| 11/11 [00:12<00:00,  1.10s/it]\n"
     ]
    },
    {
     "name": "stdout",
     "output_type": "stream",
     "text": [
      "Train loss: 1.055 | train acc = 0.399\n"
     ]
    },
    {
     "name": "stderr",
     "output_type": "stream",
     "text": [
      "loss = 0.491 | acc = 0.000: 100%|██████████| 4/4 [00:03<00:00,  1.19it/s]\n"
     ]
    },
    {
     "name": "stdout",
     "output_type": "stream",
     "text": [
      "Validation loss: 1.065 | val acc = 0.369\n",
      "\n",
      "Epoch 3/20\n"
     ]
    },
    {
     "name": "stderr",
     "output_type": "stream",
     "text": [
      "loss = 1.198 | acc = 0.800: 100%|██████████| 11/11 [00:11<00:00,  1.08s/it]\n"
     ]
    },
    {
     "name": "stdout",
     "output_type": "stream",
     "text": [
      "Train loss: 1.004 | train acc = 0.508\n"
     ]
    },
    {
     "name": "stderr",
     "output_type": "stream",
     "text": [
      "loss = 0.401 | acc = 0.000: 100%|██████████| 4/4 [00:03<00:00,  1.23it/s]\n"
     ]
    },
    {
     "name": "stdout",
     "output_type": "stream",
     "text": [
      "Validation loss: 1.014 | val acc = 0.378\n",
      "\n",
      "Epoch 4/20\n"
     ]
    },
    {
     "name": "stderr",
     "output_type": "stream",
     "text": [
      "loss = 1.095 | acc = 0.571: 100%|██████████| 11/11 [00:11<00:00,  1.06s/it]\n"
     ]
    },
    {
     "name": "stdout",
     "output_type": "stream",
     "text": [
      "Train loss: 0.946 | train acc = 0.601\n"
     ]
    },
    {
     "name": "stderr",
     "output_type": "stream",
     "text": [
      "loss = 0.516 | acc = 0.000: 100%|██████████| 4/4 [00:03<00:00,  1.17it/s]\n"
     ]
    },
    {
     "name": "stdout",
     "output_type": "stream",
     "text": [
      "Validation loss: 0.966 | val acc = 0.492\n",
      "\n",
      "Epoch 5/20\n"
     ]
    },
    {
     "name": "stderr",
     "output_type": "stream",
     "text": [
      "loss = 1.074 | acc = 0.714: 100%|██████████| 11/11 [00:11<00:00,  1.07s/it]\n"
     ]
    },
    {
     "name": "stdout",
     "output_type": "stream",
     "text": [
      "Train loss: 0.909 | train acc = 0.642\n"
     ]
    },
    {
     "name": "stderr",
     "output_type": "stream",
     "text": [
      "loss = 0.432 | acc = 0.000: 100%|██████████| 4/4 [00:03<00:00,  1.16it/s]\n"
     ]
    },
    {
     "name": "stdout",
     "output_type": "stream",
     "text": [
      "Validation loss: 0.926 | val acc = 0.417\n",
      "\n",
      "Epoch 6/20\n"
     ]
    },
    {
     "name": "stderr",
     "output_type": "stream",
     "text": [
      "loss = 0.784 | acc = 0.400: 100%|██████████| 11/11 [00:11<00:00,  1.06s/it]\n"
     ]
    },
    {
     "name": "stdout",
     "output_type": "stream",
     "text": [
      "Train loss: 0.871 | train acc = 0.663\n"
     ]
    },
    {
     "name": "stderr",
     "output_type": "stream",
     "text": [
      "loss = 1.675 | acc = 1.000: 100%|██████████| 4/4 [00:03<00:00,  1.14it/s]\n"
     ]
    },
    {
     "name": "stdout",
     "output_type": "stream",
     "text": [
      "Validation loss: 1.162 | val acc = 0.707\n",
      "\n",
      "Epoch 7/20\n"
     ]
    },
    {
     "name": "stderr",
     "output_type": "stream",
     "text": [
      "loss = 0.558 | acc = 1.000: 100%|██████████| 11/11 [00:11<00:00,  1.07s/it]\n"
     ]
    },
    {
     "name": "stdout",
     "output_type": "stream",
     "text": [
      "Train loss: 0.843 | train acc = 0.650\n"
     ]
    },
    {
     "name": "stderr",
     "output_type": "stream",
     "text": [
      "loss = 0.785 | acc = 0.667: 100%|██████████| 4/4 [00:03<00:00,  1.21it/s]\n"
     ]
    },
    {
     "name": "stdout",
     "output_type": "stream",
     "text": [
      "Validation loss: 0.939 | val acc = 0.667\n",
      "\n",
      "Epoch 8/20\n"
     ]
    },
    {
     "name": "stderr",
     "output_type": "stream",
     "text": [
      "loss = 0.800 | acc = 0.667: 100%|██████████| 11/11 [00:11<00:00,  1.06s/it]\n"
     ]
    },
    {
     "name": "stdout",
     "output_type": "stream",
     "text": [
      "Train loss: 0.813 | train acc = 0.648\n"
     ]
    },
    {
     "name": "stderr",
     "output_type": "stream",
     "text": [
      "loss = 0.362 | acc = 0.000: 100%|██████████| 4/4 [00:03<00:00,  1.20it/s]\n"
     ]
    },
    {
     "name": "stdout",
     "output_type": "stream",
     "text": [
      "Validation loss: 0.819 | val acc = 0.541\n",
      "\n",
      "Epoch 9/20\n"
     ]
    },
    {
     "name": "stderr",
     "output_type": "stream",
     "text": [
      "loss = 0.455 | acc = 0.800: 100%|██████████| 11/11 [00:11<00:00,  1.06s/it]\n"
     ]
    },
    {
     "name": "stdout",
     "output_type": "stream",
     "text": [
      "Train loss: 0.790 | train acc = 0.593\n"
     ]
    },
    {
     "name": "stderr",
     "output_type": "stream",
     "text": [
      "loss = 0.366 | acc = 0.000: 100%|██████████| 4/4 [00:03<00:00,  1.13it/s]\n"
     ]
    },
    {
     "name": "stdout",
     "output_type": "stream",
     "text": [
      "Validation loss: 0.804 | val acc = 0.514\n",
      "\n",
      "Epoch 10/20\n"
     ]
    },
    {
     "name": "stderr",
     "output_type": "stream",
     "text": [
      "loss = 0.712 | acc = 0.571: 100%|██████████| 11/11 [00:12<00:00,  1.10s/it]\n"
     ]
    },
    {
     "name": "stdout",
     "output_type": "stream",
     "text": [
      "Train loss: 0.777 | train acc = 0.634\n"
     ]
    },
    {
     "name": "stderr",
     "output_type": "stream",
     "text": [
      "loss = 1.666 | acc = 1.000: 100%|██████████| 4/4 [00:03<00:00,  1.19it/s]\n"
     ]
    },
    {
     "name": "stdout",
     "output_type": "stream",
     "text": [
      "Validation loss: 1.059 | val acc = 0.664\n",
      "\n",
      "Epoch 11/20\n"
     ]
    },
    {
     "name": "stderr",
     "output_type": "stream",
     "text": [
      "loss = 0.900 | acc = 0.571: 100%|██████████| 11/11 [00:11<00:00,  1.09s/it]\n"
     ]
    },
    {
     "name": "stdout",
     "output_type": "stream",
     "text": [
      "Train loss: 0.753 | train acc = 0.530\n"
     ]
    },
    {
     "name": "stderr",
     "output_type": "stream",
     "text": [
      "loss = 1.686 | acc = 0.667: 100%|██████████| 4/4 [00:03<00:00,  1.20it/s]\n"
     ]
    },
    {
     "name": "stdout",
     "output_type": "stream",
     "text": [
      "Validation loss: 1.080 | val acc = 0.597\n",
      "\n",
      "Epoch 12/20\n"
     ]
    },
    {
     "name": "stderr",
     "output_type": "stream",
     "text": [
      "loss = 1.071 | acc = 0.571: 100%|██████████| 11/11 [00:11<00:00,  1.04s/it]\n"
     ]
    },
    {
     "name": "stdout",
     "output_type": "stream",
     "text": [
      "Train loss: 0.733 | train acc = 0.698\n"
     ]
    },
    {
     "name": "stderr",
     "output_type": "stream",
     "text": [
      "loss = 0.379 | acc = 0.000: 100%|██████████| 4/4 [00:03<00:00,  1.18it/s]\n"
     ]
    },
    {
     "name": "stdout",
     "output_type": "stream",
     "text": [
      "Validation loss: 0.744 | val acc = 0.500\n",
      "\n",
      "Epoch 13/20\n"
     ]
    },
    {
     "name": "stderr",
     "output_type": "stream",
     "text": [
      "loss = 0.506 | acc = 1.000: 100%|██████████| 11/11 [00:11<00:00,  1.05s/it]\n"
     ]
    },
    {
     "name": "stdout",
     "output_type": "stream",
     "text": [
      "Train loss: 0.714 | train acc = 0.625\n"
     ]
    },
    {
     "name": "stderr",
     "output_type": "stream",
     "text": [
      "loss = 0.488 | acc = 0.667: 100%|██████████| 4/4 [00:03<00:00,  1.16it/s]\n"
     ]
    },
    {
     "name": "stdout",
     "output_type": "stream",
     "text": [
      "Validation loss: 0.752 | val acc = 0.697\n",
      "\n",
      "Epoch 14/20\n"
     ]
    },
    {
     "name": "stderr",
     "output_type": "stream",
     "text": [
      "loss = 0.505 | acc = 0.909: 100%|██████████| 11/11 [00:11<00:00,  1.07s/it]\n"
     ]
    },
    {
     "name": "stdout",
     "output_type": "stream",
     "text": [
      "Train loss: 0.697 | train acc = 0.677\n"
     ]
    },
    {
     "name": "stderr",
     "output_type": "stream",
     "text": [
      "loss = 1.848 | acc = 0.000: 100%|██████████| 4/4 [00:03<00:00,  1.18it/s]\n"
     ]
    },
    {
     "name": "stdout",
     "output_type": "stream",
     "text": [
      "Validation loss: 1.060 | val acc = 0.578\n",
      "\n",
      "Epoch 15/20\n"
     ]
    },
    {
     "name": "stderr",
     "output_type": "stream",
     "text": [
      "loss = 0.626 | acc = 0.800: 100%|██████████| 11/11 [00:11<00:00,  1.08s/it]\n"
     ]
    },
    {
     "name": "stdout",
     "output_type": "stream",
     "text": [
      "Train loss: 0.680 | train acc = 0.675\n"
     ]
    },
    {
     "name": "stderr",
     "output_type": "stream",
     "text": [
      "loss = 0.807 | acc = 1.000: 100%|██████████| 4/4 [00:03<00:00,  1.15it/s]\n"
     ]
    },
    {
     "name": "stdout",
     "output_type": "stream",
     "text": [
      "Validation loss: 0.798 | val acc = 0.770\n",
      "\n",
      "Epoch 16/20\n"
     ]
    },
    {
     "name": "stderr",
     "output_type": "stream",
     "text": [
      "loss = 0.712 | acc = 0.600: 100%|██████████| 11/11 [00:11<00:00,  1.09s/it]\n"
     ]
    },
    {
     "name": "stdout",
     "output_type": "stream",
     "text": [
      "Train loss: 0.666 | train acc = 0.638\n"
     ]
    },
    {
     "name": "stderr",
     "output_type": "stream",
     "text": [
      "loss = 0.313 | acc = 1.000: 100%|██████████| 4/4 [00:03<00:00,  1.17it/s]\n"
     ]
    },
    {
     "name": "stdout",
     "output_type": "stream",
     "text": [
      "Validation loss: 0.676 | val acc = 0.786\n",
      "\n",
      "Epoch 17/20\n"
     ]
    },
    {
     "name": "stderr",
     "output_type": "stream",
     "text": [
      "loss = 0.614 | acc = 0.667: 100%|██████████| 11/11 [00:11<00:00,  1.09s/it]\n"
     ]
    },
    {
     "name": "stdout",
     "output_type": "stream",
     "text": [
      "Train loss: 0.664 | train acc = 0.651\n"
     ]
    },
    {
     "name": "stderr",
     "output_type": "stream",
     "text": [
      "loss = 0.298 | acc = 1.000: 100%|██████████| 4/4 [00:03<00:00,  1.20it/s]\n"
     ]
    },
    {
     "name": "stdout",
     "output_type": "stream",
     "text": [
      "Validation loss: 0.663 | val acc = 0.774\n",
      "\n",
      "Epoch 18/20\n"
     ]
    },
    {
     "name": "stderr",
     "output_type": "stream",
     "text": [
      "loss = 0.660 | acc = 0.889: 100%|██████████| 11/11 [00:11<00:00,  1.07s/it]\n"
     ]
    },
    {
     "name": "stdout",
     "output_type": "stream",
     "text": [
      "Train loss: 0.640 | train acc = 0.692\n"
     ]
    },
    {
     "name": "stderr",
     "output_type": "stream",
     "text": [
      "loss = 2.807 | acc = 0.667: 100%|██████████| 4/4 [00:03<00:00,  1.10it/s]\n"
     ]
    },
    {
     "name": "stdout",
     "output_type": "stream",
     "text": [
      "Validation loss: 1.228 | val acc = 0.707\n",
      "\n",
      "Epoch 19/20\n"
     ]
    },
    {
     "name": "stderr",
     "output_type": "stream",
     "text": [
      "loss = 0.365 | acc = 0.400: 100%|██████████| 11/11 [00:11<00:00,  1.05s/it]\n"
     ]
    },
    {
     "name": "stdout",
     "output_type": "stream",
     "text": [
      "Train loss: 0.632 | train acc = 0.665\n"
     ]
    },
    {
     "name": "stderr",
     "output_type": "stream",
     "text": [
      "loss = 0.355 | acc = 1.000: 100%|██████████| 4/4 [00:03<00:00,  1.13it/s]\n"
     ]
    },
    {
     "name": "stdout",
     "output_type": "stream",
     "text": [
      "Validation loss: 0.654 | val acc = 0.763\n",
      "\n",
      "Epoch 20/20\n"
     ]
    },
    {
     "name": "stderr",
     "output_type": "stream",
     "text": [
      "loss = 0.604 | acc = 0.750: 100%|██████████| 11/11 [00:11<00:00,  1.09s/it]\n"
     ]
    },
    {
     "name": "stdout",
     "output_type": "stream",
     "text": [
      "Train loss: 0.617 | train acc = 0.669\n"
     ]
    },
    {
     "name": "stderr",
     "output_type": "stream",
     "text": [
      "loss = 0.454 | acc = 0.000: 100%|██████████| 4/4 [00:03<00:00,  1.15it/s]\n"
     ]
    },
    {
     "name": "stdout",
     "output_type": "stream",
     "text": [
      "Validation loss: 0.673 | val acc = 0.593\n"
     ]
    },
    {
     "data": {
      "image/png": "[encoded data removed]",
      "text/plain": [
       "<Figure size 640x480 with 1 Axes>"
      ]
     },
     "metadata": {},
     "output_type": "display_data"
    },
    {
     "data": {
      "image/png": "[encoded data removed]",
      "text/plain": [
       "<Figure size 640x480 with 1 Axes>"
      ]
     },
     "metadata": {},
     "output_type": "display_data"
    }
   ],
   "source": [
    "my_model = finetune(model_name, category, train_params)"
   ]
  },
  {
   "attachments": {},
   "cell_type": "markdown",
   "metadata": {},
   "source": [
    "## Routine 6 \n",
    "### Predict on test set, extract attention masks, compute metrics, save images"
   ]
  },
  {
   "cell_type": "code",
   "execution_count": 8,
   "metadata": {},
   "outputs": [],
   "source": [
    "def load_trained_model(category, version, best=True, path=None):\n",
    "    # Default path is the same as default checkpoint path\n",
    "    if path is None:\n",
    "        path = (\"..\" + cons.DIR_SEP + os.path.join(\"results\", \"vit_finetuning\"))\n",
    "\n",
    "    # Instantiate model\n",
    "    if version == 0:\n",
    "        model_loaded = initialize_model(\"simple_vit_pretrained_0.pt\")\n",
    "    elif version == 1:\n",
    "        model_loaded = initialize_model(\"simple_vit_pretrained_1.pt\")\n",
    "    else:\n",
    "        raise ValueError(\"Invalid model\")\n",
    "\n",
    "    model = model_loaded[\"model\"]\n",
    "\n",
    "    # Load weights\n",
    "    name = f\"simple_vit_ft_{category}_{version}_best.pt\" if best else f\"simple_vit_ft_{category}_{version}.pt\"\n",
    "    finetuned_weights = torch.load(os.path.join(path, name))\n",
    "    logging.info(f\"Updated model with finetuned weights: {os.path.join(path, name)}\")\n",
    "    model.load_state_dict(finetuned_weights[\"model_state_dict\"])\n",
    "\n",
    "    return {\n",
    "        \"model\": model,\n",
    "        \"model_hyperparams\": model_loaded[\"model_hyperparams\"]\n",
    "    }   "
   ]
  },
  {
   "cell_type": "code",
   "execution_count": 111,
   "metadata": {},
   "outputs": [],
   "source": [
    "def predict_with_attention(model, data_loader, **kwargs):\n",
    "    device = kwargs.get(\"device\", torch.device(\"cpu\"))\n",
    "    image_size = kwargs.get(\"image_size\", 64)\n",
    "    patch_size = kwargs.get(\"patch_size\", 4)\n",
    "\n",
    "    t = transforms.Resize(image_size)\n",
    "\n",
    "    images, labels, results, attn_masks, ground_truths = [], [], [], [], []\n",
    "\n",
    "    model.eval() # set model to evaluation mode\n",
    "    pbar = tqdm(enumerate(data_loader), total=len(data_loader))\n",
    "    for i, batch in pbar:\n",
    "\n",
    "        data, targets, ground_truth = batch[\"inputs\"], batch[\"labels\"], batch[\"ground_truth\"]\n",
    "        n_batch = data.shape[0]\n",
    "        data, targets = data.to(device), targets.to(device)\n",
    "        \n",
    "        with torch.no_grad(): # no need to compute gradients\n",
    "            logits, attns = model(data) # attns: (batch x layers x heads x patch x patch)\n",
    "            preds = torch.sigmoid(logits)\n",
    "            pred_cats = preds > 0.5\n",
    "\n",
    "        # Compute attention mask\n",
    "        attns = attns.mean(dim=2) # average over heads\n",
    "        attn_prod = attns[:, 0] # recursively multiply attentions\n",
    "        for i in range(1, attns.shape[1]):\n",
    "            attn_prod = torch.matmul(attn_prod, attns[:, i])\n",
    "\n",
    "        attn_vals_to_mask = attn_prod[:, -1].reshape((n_batch, image_size//patch_size, image_size//patch_size))\n",
    "        attn_mask = t(attn_vals_to_mask.unsqueeze(1)) # match image size\n",
    "        # Normalize masks\n",
    "        for n in range(n_batch):\n",
    "            attn_mask[n] = (attn_mask[n] - attn_mask[n].min())/(attn_mask[n].max() - attn_mask[n].min())\n",
    "\n",
    "        # Resize and normalize\n",
    "        ground_truth = t(ground_truth)[:, 0, ...] / 255.0\n",
    "\n",
    "        attn_masks.append(attn_mask.squeeze())\n",
    "        images.append(data)\n",
    "        labels.append(targets)\n",
    "        results.append(pred_cats)\n",
    "        ground_truths.append(ground_truth)\n",
    "\n",
    "    images = torch.concat(tuple([einops.rearrange(image, \"b c h w -> b h w c\")\n",
    "                                 for image in images]), dim=0)\n",
    "    labels = torch.concat(tuple([label for label in labels]))\n",
    "    results = torch.concat(tuple([result for result in results]))\n",
    "    attn_masks = torch.concat(tuple([attn for attn in attn_masks]))\n",
    "    ground_truths = torch.concat(tuple([gt for gt in ground_truths]))\n",
    "\n",
    "    return images.cpu().numpy(), labels.cpu().numpy(), results.cpu().numpy(), \\\n",
    "           attn_masks.cpu().numpy(), ground_truths.cpu().numpy()"
   ]
  },
  {
   "cell_type": "code",
   "execution_count": 142,
   "metadata": {},
   "outputs": [],
   "source": [
    "def compute_metrics(images, labels, results, attn_masks, ground_truths,\n",
    "                    threshold=0.5):\n",
    "\n",
    "\n",
    "    ground_truths = ground_truths.astype(np.int32)\n",
    "\n",
    "    # Compute PRO values\n",
    "    PRO_values = []\n",
    "    for mask, gt in zip(attn_masks, ground_truths):\n",
    "        PRO_values.append(imetrics.get_pro(gt, mask, threshold))\n",
    "    PRO_values = np.array(PRO_values)\n",
    "\n",
    "    PRO_results = {\n",
    "        \"scores\": PRO_values,\n",
    "        \"mean\": PRO_values.mean(),\n",
    "        \"std\": PRO_values.std(),\n",
    "        \"threshold\": threshold\n",
    "    }\n",
    "\n",
    "    # Compute threhsold-independent metrics\n",
    "    # threshold_ind_metrics = imetrics.fpr_pro_iou_curves(\n",
    "    #     ground_truths,\n",
    "    #     attn_masks\n",
    "    # )\n",
    "    threshold_ind_metrics = None\n",
    "\n",
    "    return PRO_results, threshold_ind_metrics\n"
   ]
  },
  {
   "cell_type": "code",
   "execution_count": 170,
   "metadata": {},
   "outputs": [],
   "source": [
    "%matplotlib inline\n",
    "# Refs: https://www.kaggle.com/code/piantic/vision-transformer-vit-visualize-attention-map/notebook\n",
    "\n",
    "def plot_attentions(images, labels, pred_cats, masks, **kwargs):\n",
    "\n",
    "    image_size = kwargs.get(\"image_size\", 64)\n",
    "    patch_size = kwargs.get(\"patch_size\", 4)\n",
    "    ground_truths = kwargs.get(\"ground_truths\", None)\n",
    "    pro_results = kwargs.get(\"pro_results\", None)\n",
    "    category = kwargs.get(\"category\", \"no id\")\n",
    "    version = kwargs.get(\"version\", None)\n",
    "    save_path = kwargs.get(\"save_path\", (\"..\" + cons.DIR_SEP + os.path.join(\"results_img_vit\", category)))\n",
    "    logging.info(f\"Saving images to {save_path}\")\n",
    "    n_images = images.shape[0]\n",
    "\n",
    "\n",
    "    with plt.rc_context(rc={'font.size': 9}):\n",
    "        for i in range(n_images):\n",
    "            fig, ax = plt.subplots(figsize=(4, 4))\n",
    "\n",
    "            # Plot correct predictions for anomalous objects\n",
    "            img = images[i]\n",
    "            img_label = labels[i]\n",
    "            pred_label = pred_cats[i].astype(np.int32)\n",
    "\n",
    "            mask = masks[i]\n",
    "            \n",
    "            ax.imshow(img, zorder=0)\n",
    "            ax.imshow(mask, alpha=mask, cmap=\"viridis\", zorder=2)\n",
    "\n",
    "            # Plot ground truth mask if provided when anomalous\n",
    "            if ground_truths is not None and img_label > 0:\n",
    "                gt = ground_truths[i]\n",
    "                ax.imshow(gt, alpha=0.6*gt, cmap=\"Greys_r\", zorder=1)\n",
    "                if pro_results is not None:\n",
    "                    pro = pro_results[\"scores\"][i]\n",
    "                    ax.text(0, 0.9, f\"PRO: {pro:.2f}\", color=\"k\",\n",
    "                            backgroundcolor=\"w\", transform=ax.transAxes)\n",
    "        \n",
    "            if pred_label == img_label:\n",
    "                ax.set_title(f\"Pred: {pred_label} / Truth: {img_label}\", color=\"green\")\n",
    "            else:\n",
    "                ax.set_title(f\"Pred: {pred_label} / Truth: {img_label}\", color=\"red\")\n",
    "\n",
    "            ax.set_axis_off()\n",
    "            fig.tight_layout()\n",
    "            name = f\"v{version}_{i}.png\" if version is not None else f\"{i}.png\"\n",
    "            fig.savefig(os.path.join(save_path, name), dpi=400)\n",
    "            plt.close()\n",
    "\n",
    "\n",
    "        return "
   ]
  },
  {
   "cell_type": "code",
   "execution_count": 171,
   "metadata": {},
   "outputs": [],
   "source": [
    "def eval_performance(category, version, batch_size=8, best=True, path=None):\n",
    "\n",
    "    # Prepare model\n",
    "    model_loaded = load_trained_model(category, version, best, path)\n",
    "    model = Recorder(model_loaded[\"model\"]) # set up model to return attention weights in forward pass\n",
    "    image_size, patch_size = model_loaded[\"model_hyperparams\"][\"image_size\"], model_loaded[\"model_hyperparams\"][\"patch_size\"]\n",
    "\n",
    "    # Get data\n",
    "    data_loaded = prepare_data(category=category, image_size=image_size,\n",
    "                               batch_size=batch_size)\n",
    "\n",
    "\n",
    "    # Extract results\n",
    "    images, labels, pred_cats, masks, gts = predict_with_attention(model, data_loaded[\"test_dataloader\"],\n",
    "                                                                   image_size=image_size, patch_size=patch_size)\n",
    "\n",
    "\n",
    "    model = model.eject() # remove hooks from forward pass\n",
    "\n",
    "    # Compute metrics\n",
    "\n",
    "    pro_results, threshold_ind_metrics = compute_metrics(images, labels, pred_cats, masks, gts)\n",
    "    logging.info(f\"Computed metrics for {category}, v{version}\")\n",
    "\n",
    "    ############### quick check #######################\n",
    "    # index = np.where(labels.detach().numpy() > 0)[0][0]\n",
    "\n",
    "    # plt.figure()\n",
    "    # img = images[index]\n",
    "\n",
    "    # plt.title(f\"label {labels[index]}\")\n",
    "    # plt.imshow(img)\n",
    "    # plt.imshow(attns[index], alpha=attns[index])\n",
    "    # plt.imshow(gts[index], alpha=0.3*gts[index], cmap=\"Greys_r\")\n",
    "\n",
    "    ############### *********** #######################\n",
    "\n",
    "    # Produce attention plots\n",
    "    plot_attentions(images, labels, pred_cats, masks,\n",
    "                    ground_truths=gts, pro_results=pro_results,\n",
    "                    category=category, version=version,\n",
    "                    image_size=image_size, patch_size=patch_size)\n"
   ]
  },
  {
   "attachments": {},
   "cell_type": "markdown",
   "metadata": {},
   "source": [
    "### Test evaluation routines"
   ]
  },
  {
   "cell_type": "code",
   "execution_count": 186,
   "metadata": {},
   "outputs": [
    {
     "name": "stderr",
     "output_type": "stream",
     "text": [
      "INFO:root:Loaded model, epoch:16, loss:3.3293343412990386\n",
      "INFO:root:Trainable params: 132097\n",
      "INFO:root:Frozen params: 1589504\n",
      "INFO:root:Updated model with finetuned weights: ..\\results\\vit_finetuning\\simple_vit_ft_hazelnut_0_best.pt\n",
      "INFO:root:Loading data from category: hazelnut\n"
     ]
    },
    {
     "ename": "KeyboardInterrupt",
     "evalue": "",
     "output_type": "error",
     "traceback": [
      "\u001b[1;31m---------------------------------------------------------------------------\u001b[0m",
      "\u001b[1;31mKeyboardInterrupt\u001b[0m                         Traceback (most recent call last)",
      "Cell \u001b[1;32mIn [186], line 1\u001b[0m\n\u001b[1;32m----> 1\u001b[0m eval_performance(\u001b[39m\"\u001b[39;49m\u001b[39mhazelnut\u001b[39;49m\u001b[39m\"\u001b[39;49m, version\u001b[39m=\u001b[39;49m\u001b[39m0\u001b[39;49m)\n",
      "Cell \u001b[1;32mIn [171], line 9\u001b[0m, in \u001b[0;36meval_performance\u001b[1;34m(category, version, batch_size, best, path)\u001b[0m\n\u001b[0;32m      6\u001b[0m image_size, patch_size \u001b[39m=\u001b[39m model_loaded[\u001b[39m\"\u001b[39m\u001b[39mmodel_hyperparams\u001b[39m\u001b[39m\"\u001b[39m][\u001b[39m\"\u001b[39m\u001b[39mimage_size\u001b[39m\u001b[39m\"\u001b[39m], model_loaded[\u001b[39m\"\u001b[39m\u001b[39mmodel_hyperparams\u001b[39m\u001b[39m\"\u001b[39m][\u001b[39m\"\u001b[39m\u001b[39mpatch_size\u001b[39m\u001b[39m\"\u001b[39m]\n\u001b[0;32m      8\u001b[0m \u001b[39m# Get data\u001b[39;00m\n\u001b[1;32m----> 9\u001b[0m data_loaded \u001b[39m=\u001b[39m prepare_data(category\u001b[39m=\u001b[39;49mcategory, image_size\u001b[39m=\u001b[39;49mimage_size,\n\u001b[0;32m     10\u001b[0m                            batch_size\u001b[39m=\u001b[39;49mbatch_size)\n\u001b[0;32m     13\u001b[0m \u001b[39m# Extract results\u001b[39;00m\n\u001b[0;32m     14\u001b[0m images, labels, pred_cats, masks, gts \u001b[39m=\u001b[39m predict_with_attention(model, data_loaded[\u001b[39m\"\u001b[39m\u001b[39mtest_dataloader\u001b[39m\u001b[39m\"\u001b[39m],\n\u001b[0;32m     15\u001b[0m                                                                image_size\u001b[39m=\u001b[39mimage_size, patch_size\u001b[39m=\u001b[39mpatch_size)\n",
      "Cell \u001b[1;32mIn [2], line 26\u001b[0m, in \u001b[0;36mprepare_data\u001b[1;34m(category, image_size, batch_size)\u001b[0m\n\u001b[0;32m     24\u001b[0m total_positives \u001b[39m=\u001b[39m \u001b[39m0\u001b[39m\n\u001b[0;32m     25\u001b[0m total_negatives \u001b[39m=\u001b[39m \u001b[39m0\u001b[39m\n\u001b[1;32m---> 26\u001b[0m \u001b[39mfor\u001b[39;00m batch \u001b[39min\u001b[39;00m train_dataloader:\n\u001b[0;32m     27\u001b[0m     labels \u001b[39m=\u001b[39m batch[\u001b[39m\"\u001b[39m\u001b[39mlabels\u001b[39m\u001b[39m\"\u001b[39m]\n\u001b[0;32m     28\u001b[0m     positive_instances \u001b[39m=\u001b[39m labels\u001b[39m.\u001b[39msum()\u001b[39m.\u001b[39mitem()\n",
      "File \u001b[1;32mc:\\Users\\fcoel\\miniconda3\\envs\\tapc-project\\lib\\site-packages\\torch\\utils\\data\\dataloader.py:628\u001b[0m, in \u001b[0;36m_BaseDataLoaderIter.__next__\u001b[1;34m(self)\u001b[0m\n\u001b[0;32m    625\u001b[0m \u001b[39mif\u001b[39;00m \u001b[39mself\u001b[39m\u001b[39m.\u001b[39m_sampler_iter \u001b[39mis\u001b[39;00m \u001b[39mNone\u001b[39;00m:\n\u001b[0;32m    626\u001b[0m     \u001b[39m# TODO(https://github.com/pytorch/pytorch/issues/76750)\u001b[39;00m\n\u001b[0;32m    627\u001b[0m     \u001b[39mself\u001b[39m\u001b[39m.\u001b[39m_reset()  \u001b[39m# type: ignore[call-arg]\u001b[39;00m\n\u001b[1;32m--> 628\u001b[0m data \u001b[39m=\u001b[39m \u001b[39mself\u001b[39;49m\u001b[39m.\u001b[39;49m_next_data()\n\u001b[0;32m    629\u001b[0m \u001b[39mself\u001b[39m\u001b[39m.\u001b[39m_num_yielded \u001b[39m+\u001b[39m\u001b[39m=\u001b[39m \u001b[39m1\u001b[39m\n\u001b[0;32m    630\u001b[0m \u001b[39mif\u001b[39;00m \u001b[39mself\u001b[39m\u001b[39m.\u001b[39m_dataset_kind \u001b[39m==\u001b[39m _DatasetKind\u001b[39m.\u001b[39mIterable \u001b[39mand\u001b[39;00m \\\n\u001b[0;32m    631\u001b[0m         \u001b[39mself\u001b[39m\u001b[39m.\u001b[39m_IterableDataset_len_called \u001b[39mis\u001b[39;00m \u001b[39mnot\u001b[39;00m \u001b[39mNone\u001b[39;00m \u001b[39mand\u001b[39;00m \\\n\u001b[0;32m    632\u001b[0m         \u001b[39mself\u001b[39m\u001b[39m.\u001b[39m_num_yielded \u001b[39m>\u001b[39m \u001b[39mself\u001b[39m\u001b[39m.\u001b[39m_IterableDataset_len_called:\n",
      "File \u001b[1;32mc:\\Users\\fcoel\\miniconda3\\envs\\tapc-project\\lib\\site-packages\\torch\\utils\\data\\dataloader.py:671\u001b[0m, in \u001b[0;36m_SingleProcessDataLoaderIter._next_data\u001b[1;34m(self)\u001b[0m\n\u001b[0;32m    669\u001b[0m \u001b[39mdef\u001b[39;00m \u001b[39m_next_data\u001b[39m(\u001b[39mself\u001b[39m):\n\u001b[0;32m    670\u001b[0m     index \u001b[39m=\u001b[39m \u001b[39mself\u001b[39m\u001b[39m.\u001b[39m_next_index()  \u001b[39m# may raise StopIteration\u001b[39;00m\n\u001b[1;32m--> 671\u001b[0m     data \u001b[39m=\u001b[39m \u001b[39mself\u001b[39;49m\u001b[39m.\u001b[39;49m_dataset_fetcher\u001b[39m.\u001b[39;49mfetch(index)  \u001b[39m# may raise StopIteration\u001b[39;00m\n\u001b[0;32m    672\u001b[0m     \u001b[39mif\u001b[39;00m \u001b[39mself\u001b[39m\u001b[39m.\u001b[39m_pin_memory:\n\u001b[0;32m    673\u001b[0m         data \u001b[39m=\u001b[39m _utils\u001b[39m.\u001b[39mpin_memory\u001b[39m.\u001b[39mpin_memory(data, \u001b[39mself\u001b[39m\u001b[39m.\u001b[39m_pin_memory_device)\n",
      "File \u001b[1;32mc:\\Users\\fcoel\\miniconda3\\envs\\tapc-project\\lib\\site-packages\\torch\\utils\\data\\_utils\\fetch.py:58\u001b[0m, in \u001b[0;36m_MapDatasetFetcher.fetch\u001b[1;34m(self, possibly_batched_index)\u001b[0m\n\u001b[0;32m     56\u001b[0m         data \u001b[39m=\u001b[39m \u001b[39mself\u001b[39m\u001b[39m.\u001b[39mdataset\u001b[39m.\u001b[39m__getitems__(possibly_batched_index)\n\u001b[0;32m     57\u001b[0m     \u001b[39melse\u001b[39;00m:\n\u001b[1;32m---> 58\u001b[0m         data \u001b[39m=\u001b[39m [\u001b[39mself\u001b[39m\u001b[39m.\u001b[39mdataset[idx] \u001b[39mfor\u001b[39;00m idx \u001b[39min\u001b[39;00m possibly_batched_index]\n\u001b[0;32m     59\u001b[0m \u001b[39melse\u001b[39;00m:\n\u001b[0;32m     60\u001b[0m     data \u001b[39m=\u001b[39m \u001b[39mself\u001b[39m\u001b[39m.\u001b[39mdataset[possibly_batched_index]\n",
      "File \u001b[1;32mc:\\Users\\fcoel\\miniconda3\\envs\\tapc-project\\lib\\site-packages\\torch\\utils\\data\\_utils\\fetch.py:58\u001b[0m, in \u001b[0;36m<listcomp>\u001b[1;34m(.0)\u001b[0m\n\u001b[0;32m     56\u001b[0m         data \u001b[39m=\u001b[39m \u001b[39mself\u001b[39m\u001b[39m.\u001b[39mdataset\u001b[39m.\u001b[39m__getitems__(possibly_batched_index)\n\u001b[0;32m     57\u001b[0m     \u001b[39melse\u001b[39;00m:\n\u001b[1;32m---> 58\u001b[0m         data \u001b[39m=\u001b[39m [\u001b[39mself\u001b[39;49m\u001b[39m.\u001b[39;49mdataset[idx] \u001b[39mfor\u001b[39;00m idx \u001b[39min\u001b[39;00m possibly_batched_index]\n\u001b[0;32m     59\u001b[0m \u001b[39melse\u001b[39;00m:\n\u001b[0;32m     60\u001b[0m     data \u001b[39m=\u001b[39m \u001b[39mself\u001b[39m\u001b[39m.\u001b[39mdataset[possibly_batched_index]\n",
      "File \u001b[1;32mc:\\Users\\fcoel\\miniconda3\\envs\\tapc-project\\lib\\site-packages\\torch\\utils\\data\\dataset.py:295\u001b[0m, in \u001b[0;36mSubset.__getitem__\u001b[1;34m(self, idx)\u001b[0m\n\u001b[0;32m    293\u001b[0m \u001b[39mif\u001b[39;00m \u001b[39misinstance\u001b[39m(idx, \u001b[39mlist\u001b[39m):\n\u001b[0;32m    294\u001b[0m     \u001b[39mreturn\u001b[39;00m \u001b[39mself\u001b[39m\u001b[39m.\u001b[39mdataset[[\u001b[39mself\u001b[39m\u001b[39m.\u001b[39mindices[i] \u001b[39mfor\u001b[39;00m i \u001b[39min\u001b[39;00m idx]]\n\u001b[1;32m--> 295\u001b[0m \u001b[39mreturn\u001b[39;00m \u001b[39mself\u001b[39;49m\u001b[39m.\u001b[39;49mdataset[\u001b[39mself\u001b[39;49m\u001b[39m.\u001b[39;49mindices[idx]]\n",
      "File \u001b[1;32mc:\\Users\\fcoel\\Projects\\TAAC_AnomalyDetection_in_MVTecDataset\\notebooks\\..\\src\\commons\\dataset.py:136\u001b[0m, in \u001b[0;36mMVTECViTDataset.__getitem__\u001b[1;34m(self, idx)\u001b[0m\n\u001b[0;32m    133\u001b[0m logging\u001b[39m.\u001b[39mdebug(\u001b[39mf\u001b[39m\u001b[39m\"\u001b[39m\u001b[39mmask name: \u001b[39m\u001b[39m{\u001b[39;00mmask_name\u001b[39m}\u001b[39;00m\u001b[39m\"\u001b[39m)\n\u001b[0;32m    134\u001b[0m logging\u001b[39m.\u001b[39mdebug(\u001b[39mf\u001b[39m\u001b[39m\"\u001b[39m\u001b[39mclass id: \u001b[39m\u001b[39m{\u001b[39;00mimg_class_id\u001b[39m}\u001b[39;00m\u001b[39m\"\u001b[39m)\n\u001b[1;32m--> 136\u001b[0m image \u001b[39m=\u001b[39m read_image(file_name, mode\u001b[39m=\u001b[39;49mImageReadMode\u001b[39m.\u001b[39;49mRGB)\n\u001b[0;32m    137\u001b[0m \u001b[39mif\u001b[39;00m \u001b[39mself\u001b[39m\u001b[39m.\u001b[39mtransforms \u001b[39mis\u001b[39;00m \u001b[39mnot\u001b[39;00m \u001b[39mNone\u001b[39;00m:\n\u001b[0;32m    138\u001b[0m     image \u001b[39m=\u001b[39m \u001b[39mself\u001b[39m\u001b[39m.\u001b[39mtransforms(image)\n",
      "File \u001b[1;32mc:\\Users\\fcoel\\miniconda3\\envs\\tapc-project\\lib\\site-packages\\torchvision\\io\\image.py:254\u001b[0m, in \u001b[0;36mread_image\u001b[1;34m(path, mode)\u001b[0m\n\u001b[0;32m    252\u001b[0m     _log_api_usage_once(read_image)\n\u001b[0;32m    253\u001b[0m data \u001b[39m=\u001b[39m read_file(path)\n\u001b[1;32m--> 254\u001b[0m \u001b[39mreturn\u001b[39;00m decode_image(data, mode)\n",
      "File \u001b[1;32mc:\\Users\\fcoel\\miniconda3\\envs\\tapc-project\\lib\\site-packages\\torchvision\\io\\image.py:231\u001b[0m, in \u001b[0;36mdecode_image\u001b[1;34m(input, mode)\u001b[0m\n\u001b[0;32m    229\u001b[0m \u001b[39mif\u001b[39;00m \u001b[39mnot\u001b[39;00m torch\u001b[39m.\u001b[39mjit\u001b[39m.\u001b[39mis_scripting() \u001b[39mand\u001b[39;00m \u001b[39mnot\u001b[39;00m torch\u001b[39m.\u001b[39mjit\u001b[39m.\u001b[39mis_tracing():\n\u001b[0;32m    230\u001b[0m     _log_api_usage_once(decode_image)\n\u001b[1;32m--> 231\u001b[0m output \u001b[39m=\u001b[39m torch\u001b[39m.\u001b[39;49mops\u001b[39m.\u001b[39;49mimage\u001b[39m.\u001b[39;49mdecode_image(\u001b[39minput\u001b[39;49m, mode\u001b[39m.\u001b[39;49mvalue)\n\u001b[0;32m    232\u001b[0m \u001b[39mreturn\u001b[39;00m output\n",
      "File \u001b[1;32mc:\\Users\\fcoel\\miniconda3\\envs\\tapc-project\\lib\\site-packages\\torch\\_ops.py:442\u001b[0m, in \u001b[0;36mOpOverloadPacket.__call__\u001b[1;34m(self, *args, **kwargs)\u001b[0m\n\u001b[0;32m    437\u001b[0m \u001b[39mdef\u001b[39;00m \u001b[39m__call__\u001b[39m(\u001b[39mself\u001b[39m, \u001b[39m*\u001b[39margs, \u001b[39m*\u001b[39m\u001b[39m*\u001b[39mkwargs):\n\u001b[0;32m    438\u001b[0m     \u001b[39m# overloading __call__ to ensure torch.ops.foo.bar()\u001b[39;00m\n\u001b[0;32m    439\u001b[0m     \u001b[39m# is still callable from JIT\u001b[39;00m\n\u001b[0;32m    440\u001b[0m     \u001b[39m# We save the function ptr as the `op` attribute on\u001b[39;00m\n\u001b[0;32m    441\u001b[0m     \u001b[39m# OpOverloadPacket to access it here.\u001b[39;00m\n\u001b[1;32m--> 442\u001b[0m     \u001b[39mreturn\u001b[39;00m \u001b[39mself\u001b[39m\u001b[39m.\u001b[39m_op(\u001b[39m*\u001b[39margs, \u001b[39m*\u001b[39m\u001b[39m*\u001b[39mkwargs \u001b[39mor\u001b[39;00m {})\n",
      "\u001b[1;31mKeyboardInterrupt\u001b[0m: "
     ]
    }
   ],
   "source": [
    "eval_performance(\"hazelnut\", version=0)"
   ]
  },
  {
   "attachments": {},
   "cell_type": "markdown",
   "metadata": {},
   "source": [
    "# Everything is working, now let's apply it systematically\n",
    "\n",
    "\n",
    "```python\n",
    "categories = [\"bottle\", \"cable\", \"hazelnut\",\n",
    "              \"leather\", \"screw\", \"transistor\"]\n",
    "```"
   ]
  },
  {
   "cell_type": "code",
   "execution_count": 190,
   "metadata": {},
   "outputs": [
    {
     "name": "stdout",
     "output_type": "stream",
     "text": [
      "Preparing to finetune simple_vit_pretrained_0.pt on transistor data\n"
     ]
    }
   ],
   "source": [
    "# model_version = 0\n",
    "# model_name = f\"simple_vit_pretrained_{model_version}.pt\"\n",
    "\n",
    "category = \"transistor\"\n",
    "\n",
    "for category in [\"bottle\", \"cable\", \"hazelnut\",\n",
    "              \"leather\", \"screw\", \"transistor\"]:\n",
    "    for model_version in [0, 1]:\n",
    "\n",
    "        train_params = {\n",
    "            \"batch_size\": 32,\n",
    "            \"checkpoint_name\": f\"{category}_{model_version}\",\n",
    "            \"checkpoint_path\": (\"..\" + cons.DIR_SEP + os.path.join(\"results\", \"vit_finetuning\")),\n",
    "            \"learning_rate\": 5e-4,\n",
    "            \"learning_rate_unfreeze\": 1e-6,\n",
    "            \"num_epochs\": 30,\n",
    "            \"num_epochs_unfreeze\": 30,\n",
    "        }\n",
    "\n",
    "        print(f\"Preparing to finetune {model_name} on {category} data\")\n",
    "\n",
    "        my_model = finetune(model_name, category, train_params)\n",
    "\n",
    "        eval_performance(category, version=model_version)"
   ]
  },
  {
   "cell_type": "code",
   "execution_count": null,
   "metadata": {},
   "outputs": [],
   "source": []
  }
 ],
 "metadata": {
  "kernelspec": {
   "display_name": "Python 3.9.15 ('tapc-project')",
   "language": "python",
   "name": "python3"
  },
  "language_info": {
   "codemirror_mode": {
    "name": "ipython",
    "version": 3
   },
   "file_extension": ".py",
   "mimetype": "text/x-python",
   "name": "python",
   "nbconvert_exporter": "python",
   "pygments_lexer": "ipython3",
   "version": "3.9.15"
  },
  "orig_nbformat": 4,
  "vscode": {
   "interpreter": {
    "hash": "8232baa799334afe543e2acd393bb3cae9a3498fd20d98e378d09c9bddfb174e"
   }
  }
 },
 "nbformat": 4,
 "nbformat_minor": 2
}
