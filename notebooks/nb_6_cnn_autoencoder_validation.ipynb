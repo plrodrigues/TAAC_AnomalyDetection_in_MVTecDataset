{
 "cells": [
  {
   "cell_type": "markdown",
   "metadata": {},
   "source": [
    "# Validation of autoencoder task + Prediction"
   ]
  },
  {
   "cell_type": "code",
   "execution_count": null,
   "metadata": {},
   "outputs": [],
   "source": [
    "# load custom packages from src dir\n",
    "import sys\n",
    "sys.path.insert(0, '..')\n",
    "\n",
    "# python packages\n",
    "import logging\n",
    "import os\n",
    "import time\n",
    "import numpy as np\n",
    "import pandas as pd\n",
    "\n",
    "# Viz\n",
    "import matplotlib.pyplot as plt\n",
    "%matplotlib inline\n",
    "\n",
    "# custom packages\n",
    "import src.commons.dataset as ds\n",
    "import src.commons.constants as cons\n",
    "\n",
    "# U-Net custom implementation\n",
    "from src.models.u_net import *\n",
    "\n",
    "# Define the logging level\n",
    "logging.getLogger().setLevel(logging.INFO)"
   ]
  }
 ],
 "metadata": {
  "kernelspec": {
   "display_name": "Python 3.10.4 ('venv_taac': venv)",
   "language": "python",
   "name": "python3"
  },
  "language_info": {
   "name": "python",
   "version": "3.10.4"
  },
  "orig_nbformat": 4,
  "vscode": {
   "interpreter": {
    "hash": "36e01f64715da73d84b178734be29add2facdb683282487be4a7e4268a9ca340"
   }
  }
 },
 "nbformat": 4,
 "nbformat_minor": 2
}
